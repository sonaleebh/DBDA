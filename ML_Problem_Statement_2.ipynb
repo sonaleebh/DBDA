{
  "nbformat": 4,
  "nbformat_minor": 0,
  "metadata": {
    "colab": {
      "provenance": []
    },
    "kernelspec": {
      "name": "python3",
      "display_name": "Python 3"
    },
    "language_info": {
      "name": "python"
    }
  },
  "cells": [
    {
      "cell_type": "code",
      "execution_count": 1,
      "metadata": {
        "id": "krwpNMjRNXq9"
      },
      "outputs": [],
      "source": [
        "import numpy as np\n",
        "import pandas as pd\n",
        "import matplotlib.pyplot as plt"
      ]
    },
    {
      "cell_type": "code",
      "source": [
        "df=pd.read_excel('data_final.xlsx')"
      ],
      "metadata": {
        "id": "VYpIg-dSNt7J"
      },
      "execution_count": 4,
      "outputs": []
    },
    {
      "cell_type": "markdown",
      "source": [
        "Understanding the dataset"
      ],
      "metadata": {
        "id": "QNldIeKdhA_F"
      }
    },
    {
      "cell_type": "code",
      "source": [
        "df.head()"
      ],
      "metadata": {
        "colab": {
          "base_uri": "https://localhost:8080/",
          "height": 206
        },
        "id": "dBvdqHa1Nzb1",
        "outputId": "be0335d8-2190-4580-b278-9d9b228424b3"
      },
      "execution_count": 5,
      "outputs": [
        {
          "output_type": "execute_result",
          "data": {
            "text/plain": [
              "   observation  feature   price\n",
              "0         0.44     0.68  511.14\n",
              "1         0.99     0.23  717.10\n",
              "2         0.84     0.29  607.91\n",
              "3         0.28     0.45  270.40\n",
              "4         0.07     0.83  289.88"
            ],
            "text/html": [
              "\n",
              "  <div id=\"df-f74b2c62-c0ac-49a8-b657-159852375b79\">\n",
              "    <div class=\"colab-df-container\">\n",
              "      <div>\n",
              "<style scoped>\n",
              "    .dataframe tbody tr th:only-of-type {\n",
              "        vertical-align: middle;\n",
              "    }\n",
              "\n",
              "    .dataframe tbody tr th {\n",
              "        vertical-align: top;\n",
              "    }\n",
              "\n",
              "    .dataframe thead th {\n",
              "        text-align: right;\n",
              "    }\n",
              "</style>\n",
              "<table border=\"1\" class=\"dataframe\">\n",
              "  <thead>\n",
              "    <tr style=\"text-align: right;\">\n",
              "      <th></th>\n",
              "      <th>observation</th>\n",
              "      <th>feature</th>\n",
              "      <th>price</th>\n",
              "    </tr>\n",
              "  </thead>\n",
              "  <tbody>\n",
              "    <tr>\n",
              "      <th>0</th>\n",
              "      <td>0.44</td>\n",
              "      <td>0.68</td>\n",
              "      <td>511.14</td>\n",
              "    </tr>\n",
              "    <tr>\n",
              "      <th>1</th>\n",
              "      <td>0.99</td>\n",
              "      <td>0.23</td>\n",
              "      <td>717.10</td>\n",
              "    </tr>\n",
              "    <tr>\n",
              "      <th>2</th>\n",
              "      <td>0.84</td>\n",
              "      <td>0.29</td>\n",
              "      <td>607.91</td>\n",
              "    </tr>\n",
              "    <tr>\n",
              "      <th>3</th>\n",
              "      <td>0.28</td>\n",
              "      <td>0.45</td>\n",
              "      <td>270.40</td>\n",
              "    </tr>\n",
              "    <tr>\n",
              "      <th>4</th>\n",
              "      <td>0.07</td>\n",
              "      <td>0.83</td>\n",
              "      <td>289.88</td>\n",
              "    </tr>\n",
              "  </tbody>\n",
              "</table>\n",
              "</div>\n",
              "      <button class=\"colab-df-convert\" onclick=\"convertToInteractive('df-f74b2c62-c0ac-49a8-b657-159852375b79')\"\n",
              "              title=\"Convert this dataframe to an interactive table.\"\n",
              "              style=\"display:none;\">\n",
              "        \n",
              "  <svg xmlns=\"http://www.w3.org/2000/svg\" height=\"24px\"viewBox=\"0 0 24 24\"\n",
              "       width=\"24px\">\n",
              "    <path d=\"M0 0h24v24H0V0z\" fill=\"none\"/>\n",
              "    <path d=\"M18.56 5.44l.94 2.06.94-2.06 2.06-.94-2.06-.94-.94-2.06-.94 2.06-2.06.94zm-11 1L8.5 8.5l.94-2.06 2.06-.94-2.06-.94L8.5 2.5l-.94 2.06-2.06.94zm10 10l.94 2.06.94-2.06 2.06-.94-2.06-.94-.94-2.06-.94 2.06-2.06.94z\"/><path d=\"M17.41 7.96l-1.37-1.37c-.4-.4-.92-.59-1.43-.59-.52 0-1.04.2-1.43.59L10.3 9.45l-7.72 7.72c-.78.78-.78 2.05 0 2.83L4 21.41c.39.39.9.59 1.41.59.51 0 1.02-.2 1.41-.59l7.78-7.78 2.81-2.81c.8-.78.8-2.07 0-2.86zM5.41 20L4 18.59l7.72-7.72 1.47 1.35L5.41 20z\"/>\n",
              "  </svg>\n",
              "      </button>\n",
              "      \n",
              "  <style>\n",
              "    .colab-df-container {\n",
              "      display:flex;\n",
              "      flex-wrap:wrap;\n",
              "      gap: 12px;\n",
              "    }\n",
              "\n",
              "    .colab-df-convert {\n",
              "      background-color: #E8F0FE;\n",
              "      border: none;\n",
              "      border-radius: 50%;\n",
              "      cursor: pointer;\n",
              "      display: none;\n",
              "      fill: #1967D2;\n",
              "      height: 32px;\n",
              "      padding: 0 0 0 0;\n",
              "      width: 32px;\n",
              "    }\n",
              "\n",
              "    .colab-df-convert:hover {\n",
              "      background-color: #E2EBFA;\n",
              "      box-shadow: 0px 1px 2px rgba(60, 64, 67, 0.3), 0px 1px 3px 1px rgba(60, 64, 67, 0.15);\n",
              "      fill: #174EA6;\n",
              "    }\n",
              "\n",
              "    [theme=dark] .colab-df-convert {\n",
              "      background-color: #3B4455;\n",
              "      fill: #D2E3FC;\n",
              "    }\n",
              "\n",
              "    [theme=dark] .colab-df-convert:hover {\n",
              "      background-color: #434B5C;\n",
              "      box-shadow: 0px 1px 3px 1px rgba(0, 0, 0, 0.15);\n",
              "      filter: drop-shadow(0px 1px 2px rgba(0, 0, 0, 0.3));\n",
              "      fill: #FFFFFF;\n",
              "    }\n",
              "  </style>\n",
              "\n",
              "      <script>\n",
              "        const buttonEl =\n",
              "          document.querySelector('#df-f74b2c62-c0ac-49a8-b657-159852375b79 button.colab-df-convert');\n",
              "        buttonEl.style.display =\n",
              "          google.colab.kernel.accessAllowed ? 'block' : 'none';\n",
              "\n",
              "        async function convertToInteractive(key) {\n",
              "          const element = document.querySelector('#df-f74b2c62-c0ac-49a8-b657-159852375b79');\n",
              "          const dataTable =\n",
              "            await google.colab.kernel.invokeFunction('convertToInteractive',\n",
              "                                                     [key], {});\n",
              "          if (!dataTable) return;\n",
              "\n",
              "          const docLinkHtml = 'Like what you see? Visit the ' +\n",
              "            '<a target=\"_blank\" href=https://colab.research.google.com/notebooks/data_table.ipynb>data table notebook</a>'\n",
              "            + ' to learn more about interactive tables.';\n",
              "          element.innerHTML = '';\n",
              "          dataTable['output_type'] = 'display_data';\n",
              "          await google.colab.output.renderOutput(dataTable, element);\n",
              "          const docLink = document.createElement('div');\n",
              "          docLink.innerHTML = docLinkHtml;\n",
              "          element.appendChild(docLink);\n",
              "        }\n",
              "      </script>\n",
              "    </div>\n",
              "  </div>\n",
              "  "
            ]
          },
          "metadata": {},
          "execution_count": 5
        }
      ]
    },
    {
      "cell_type": "code",
      "source": [
        "df.shape"
      ],
      "metadata": {
        "colab": {
          "base_uri": "https://localhost:8080/"
        },
        "id": "8TpGAa6vOyc9",
        "outputId": "dc48b460-4681-409f-a27c-96f35d7bab7b"
      },
      "execution_count": 6,
      "outputs": [
        {
          "output_type": "execute_result",
          "data": {
            "text/plain": [
              "(100, 3)"
            ]
          },
          "metadata": {},
          "execution_count": 6
        }
      ]
    },
    {
      "cell_type": "code",
      "source": [
        "df.info()"
      ],
      "metadata": {
        "colab": {
          "base_uri": "https://localhost:8080/"
        },
        "id": "Qf6TDYvmTp4a",
        "outputId": "d50f48ae-8c70-4d4e-91ae-19523bef8700"
      },
      "execution_count": 7,
      "outputs": [
        {
          "output_type": "stream",
          "name": "stdout",
          "text": [
            "<class 'pandas.core.frame.DataFrame'>\n",
            "RangeIndex: 100 entries, 0 to 99\n",
            "Data columns (total 3 columns):\n",
            " #   Column       Non-Null Count  Dtype  \n",
            "---  ------       --------------  -----  \n",
            " 0   observation  100 non-null    float64\n",
            " 1   feature      100 non-null    float64\n",
            " 2   price        100 non-null    float64\n",
            "dtypes: float64(3)\n",
            "memory usage: 2.5 KB\n"
          ]
        }
      ]
    },
    {
      "cell_type": "code",
      "source": [
        "df.isnull().sum()"
      ],
      "metadata": {
        "colab": {
          "base_uri": "https://localhost:8080/"
        },
        "id": "q0Fe-wSLN6G5",
        "outputId": "0632718b-08c7-4a8e-db47-f0fb9beb02be"
      },
      "execution_count": 8,
      "outputs": [
        {
          "output_type": "execute_result",
          "data": {
            "text/plain": [
              "observation    0\n",
              "feature        0\n",
              "price          0\n",
              "dtype: int64"
            ]
          },
          "metadata": {},
          "execution_count": 8
        }
      ]
    },
    {
      "cell_type": "code",
      "source": [
        "#as there are no null values and all data is in continuos form so no need of data cleaning"
      ],
      "metadata": {
        "id": "rRZGrdV-WTPI"
      },
      "execution_count": null,
      "outputs": []
    },
    {
      "cell_type": "markdown",
      "source": [
        "Splitting data into Dependent and independant variable"
      ],
      "metadata": {
        "id": "5Lp_MnwTg8D-"
      }
    },
    {
      "cell_type": "code",
      "source": [
        "X=df.iloc[:,:-1].values\n",
        "y=df.iloc[:,-1].values"
      ],
      "metadata": {
        "id": "MPSFDGzpOv_T"
      },
      "execution_count": 71,
      "outputs": []
    },
    {
      "cell_type": "code",
      "source": [
        "from sklearn.model_selection import train_test_split\n",
        "x_train,x_test,y_train,y_test=train_test_split(X,y,test_size=0.2,random_state=3)"
      ],
      "metadata": {
        "id": "gUTdiRq7UD-s"
      },
      "execution_count": 78,
      "outputs": []
    },
    {
      "cell_type": "code",
      "source": [
        "x_train"
      ],
      "metadata": {
        "colab": {
          "base_uri": "https://localhost:8080/"
        },
        "id": "UAPfAxymUbYG",
        "outputId": "0b6f9c01-b315-4ceb-f1c7-791dde9fef2c"
      },
      "execution_count": 79,
      "outputs": [
        {
          "output_type": "execute_result",
          "data": {
            "text/plain": [
              "array([[0.92, 0.03],\n",
              "       [0.78, 0.69],\n",
              "       [0.43, 0.89],\n",
              "       [0.07, 0.83],\n",
              "       [0.82, 0.96],\n",
              "       [0.3 , 0.08],\n",
              "       [0.65, 0.43],\n",
              "       [0.88, 0.4 ],\n",
              "       [0.15, 0.96],\n",
              "       [0.01, 0.11],\n",
              "       [0.62, 0.17],\n",
              "       [0.66, 0.8 ],\n",
              "       [0.9 , 0.94],\n",
              "       [0.79, 0.97],\n",
              "       [0.73, 0.01],\n",
              "       [0.87, 0.91],\n",
              "       [0.41, 0.15],\n",
              "       [0.98, 0.3 ],\n",
              "       [0.82, 0.04],\n",
              "       [0.48, 0.76],\n",
              "       [0.47, 0.66],\n",
              "       [0.84, 0.6 ],\n",
              "       [0.57, 0.69],\n",
              "       [0.52, 0.22],\n",
              "       [0.89, 0.68],\n",
              "       [0.42, 0.94],\n",
              "       [0.79, 0.94],\n",
              "       [0.86, 0.66],\n",
              "       [0.23, 0.26],\n",
              "       [0.47, 0.23],\n",
              "       [0.96, 0.25],\n",
              "       [0.02, 0.28],\n",
              "       [0.9 , 0.42],\n",
              "       [0.44, 0.64],\n",
              "       [0.85, 0.64],\n",
              "       [0.49, 0.98],\n",
              "       [0.26, 0.62],\n",
              "       [0.99, 0.13],\n",
              "       [0.63, 0.58],\n",
              "       [0.06, 0.42],\n",
              "       [0.38, 0.4 ],\n",
              "       [0.09, 0.97],\n",
              "       [0.69, 0.  ],\n",
              "       [1.  , 0.23],\n",
              "       [0.26, 0.23],\n",
              "       [0.85, 0.49],\n",
              "       [0.31, 0.15],\n",
              "       [0.01, 0.03],\n",
              "       [0.91, 0.53],\n",
              "       [0.65, 0.17],\n",
              "       [0.57, 0.43],\n",
              "       [0.2 , 0.4 ],\n",
              "       [0.77, 0.36],\n",
              "       [0.12, 0.65],\n",
              "       [0.79, 0.12],\n",
              "       [0.45, 0.87],\n",
              "       [0.99, 0.23],\n",
              "       [0.83, 0.64],\n",
              "       [0.43, 0.12],\n",
              "       [0.84, 0.29],\n",
              "       [0.31, 0.87],\n",
              "       [0.78, 0.85],\n",
              "       [0.19, 0.62],\n",
              "       [0.68, 0.13],\n",
              "       [0.41, 0.06],\n",
              "       [0.99, 0.91],\n",
              "       [0.6 , 0.69],\n",
              "       [0.41, 0.93],\n",
              "       [0.6 , 0.02],\n",
              "       [0.34, 0.5 ],\n",
              "       [0.43, 0.06],\n",
              "       [0.3 , 0.19],\n",
              "       [0.72, 0.34],\n",
              "       [0.93, 0.44],\n",
              "       [0.36, 0.43],\n",
              "       [0.44, 0.68],\n",
              "       [0.02, 0.56],\n",
              "       [0.1 , 0.24],\n",
              "       [0.28, 0.45],\n",
              "       [0.04, 0.52]])"
            ]
          },
          "metadata": {},
          "execution_count": 79
        }
      ]
    },
    {
      "cell_type": "markdown",
      "source": [
        "Model building"
      ],
      "metadata": {
        "id": "KaF3_iyWhQNY"
      }
    },
    {
      "cell_type": "code",
      "source": [
        "from sklearn.linear_model import LinearRegression\n",
        "model=LinearRegression()\n",
        "model.fit(x_train,y_train)\n",
        "\n"
      ],
      "metadata": {
        "colab": {
          "base_uri": "https://localhost:8080/"
        },
        "id": "pZ6VwvZ4StS5",
        "outputId": "9e1e72b8-757c-410a-aa98-bc3f67bb762d"
      },
      "execution_count": 80,
      "outputs": [
        {
          "output_type": "execute_result",
          "data": {
            "text/plain": [
              "LinearRegression()"
            ]
          },
          "metadata": {},
          "execution_count": 80
        }
      ]
    },
    {
      "cell_type": "markdown",
      "source": [
        "PRediction of response variable"
      ],
      "metadata": {
        "id": "pN_ctNKIhS1a"
      }
    },
    {
      "cell_type": "code",
      "source": [
        "y_pred=model.predict(x_test)"
      ],
      "metadata": {
        "id": "r48ltZGfPvCd"
      },
      "execution_count": 81,
      "outputs": []
    },
    {
      "cell_type": "code",
      "source": [
        "y_pred"
      ],
      "metadata": {
        "id": "e0vZ9CPxQpGb",
        "colab": {
          "base_uri": "https://localhost:8080/"
        },
        "outputId": "e4a2787b-f793-44e7-b752-5d77b3c3c91a"
      },
      "execution_count": 82,
      "outputs": [
        {
          "output_type": "execute_result",
          "data": {
            "text/plain": [
              "array([ 2.47815667e+02,  1.24650066e+03,  9.81778588e+02,  7.97435349e+01,\n",
              "        2.98157562e+02,  7.50351960e+02,  5.28995753e+02,  6.56321580e+02,\n",
              "       -3.91591371e-01,  3.06576279e+02,  5.83988333e+02,  6.15784289e+02,\n",
              "        8.23273643e+02,  7.26652103e+02,  6.16372725e+02,  6.67568872e+02,\n",
              "        7.23738324e+02,  3.82677557e+02,  1.15276450e+03,  1.05991099e+03])"
            ]
          },
          "metadata": {},
          "execution_count": 82
        }
      ]
    },
    {
      "cell_type": "code",
      "source": [
        "#lets predict for observartion value: 0.34 and Feature value: 0.45"
      ],
      "metadata": {
        "id": "Cc8gTehyiKWh"
      },
      "execution_count": null,
      "outputs": []
    },
    {
      "cell_type": "code",
      "source": [
        "model.predict([[0.34,0.45]])"
      ],
      "metadata": {
        "colab": {
          "base_uri": "https://localhost:8080/"
        },
        "id": "1CFha7RNh4ap",
        "outputId": "fd165bfd-0ca8-4008-9e47-c3216abaee32"
      },
      "execution_count": 89,
      "outputs": [
        {
          "output_type": "execute_result",
          "data": {
            "text/plain": [
              "array([341.84604775])"
            ]
          },
          "metadata": {},
          "execution_count": 89
        }
      ]
    },
    {
      "cell_type": "markdown",
      "source": [
        "We got 341.86 as a predicted price"
      ],
      "metadata": {
        "id": "1HN8GMGeiRCA"
      }
    },
    {
      "cell_type": "code",
      "source": [
        "#Model accuracy score\n",
        "model.score(x_test,y_test)"
      ],
      "metadata": {
        "colab": {
          "base_uri": "https://localhost:8080/"
        },
        "id": "IDwoR2kBYZDj",
        "outputId": "688e020d-5fed-44b6-cf71-c0eb349bd53c"
      },
      "execution_count": 83,
      "outputs": [
        {
          "output_type": "execute_result",
          "data": {
            "text/plain": [
              "0.9217939323022245"
            ]
          },
          "metadata": {},
          "execution_count": 83
        }
      ]
    },
    {
      "cell_type": "markdown",
      "source": [
        "Visualization"
      ],
      "metadata": {
        "id": "YJhj4zoihXVc"
      }
    },
    {
      "cell_type": "code",
      "source": [
        "\n",
        "plt.scatter(y_pred,y_test)"
      ],
      "metadata": {
        "colab": {
          "base_uri": "https://localhost:8080/",
          "height": 282
        },
        "id": "QD1gDhGycVEd",
        "outputId": "54656534-80ed-404a-a60d-e49c135ce056"
      },
      "execution_count": 91,
      "outputs": [
        {
          "output_type": "execute_result",
          "data": {
            "text/plain": [
              "<matplotlib.collections.PathCollection at 0x7f3956cf0d60>"
            ]
          },
          "metadata": {},
          "execution_count": 91
        },
        {
          "output_type": "display_data",
          "data": {
            "text/plain": [
              "<Figure size 432x288 with 1 Axes>"
            ],
            "image/png": "[encoded data removed]"
          },
          "metadata": {
            "needs_background": "light"
          }
        }
      ]
    },
    {
      "cell_type": "code",
      "source": [],
      "metadata": {
        "id": "wu5dwqzRef94"
      },
      "execution_count": null,
      "outputs": []
    },
    {
      "cell_type": "markdown",
      "source": [
        "Polynomial Regression"
      ],
      "metadata": {
        "id": "D8pukogdeq6a"
      }
    },
    {
      "cell_type": "code",
      "source": [
        "X=df.iloc[:,0].values\n",
        "y=df.iloc[:,-1].values"
      ],
      "metadata": {
        "id": "N3AqOS9DersI"
      },
      "execution_count": 48,
      "outputs": []
    },
    {
      "cell_type": "code",
      "source": [
        "X=X.reshape(-1,1)"
      ],
      "metadata": {
        "id": "Oms_XKqlesDC"
      },
      "execution_count": 53,
      "outputs": []
    },
    {
      "cell_type": "code",
      "source": [
        "y"
      ],
      "metadata": {
        "colab": {
          "base_uri": "https://localhost:8080/"
        },
        "id": "qcMF6GjUesE5",
        "outputId": "64574066-cf98-4ace-a60e-c37403fdd9a6"
      },
      "execution_count": 54,
      "outputs": [
        {
          "output_type": "execute_result",
          "data": {
            "text/plain": [
              "array([ 511.14,  717.1 ,  607.91,  270.4 ,  289.88,  830.85, 1038.09,\n",
              "        455.19,  640.17,  511.06,  177.03, 1242.52,  891.37, 1339.72,\n",
              "        169.88,  276.05,  517.43,  522.25,  932.21,  851.25,  640.11,\n",
              "        308.68, 1046.05,  332.4 ,  171.85,  109.55,  361.97,  872.21,\n",
              "        303.7 ,  256.38,  341.2 , 1194.63,  408.6 ,  895.54,  518.25,\n",
              "        638.75,  301.9 ,  163.38,  240.77, 1449.05,  609.  ,  174.59,\n",
              "        593.45,  355.96,  671.46, 1193.7 ,  278.88,  411.4 ,   42.08,\n",
              "        166.19,   58.62,  642.45,  368.14,  702.78,  615.74,  143.79,\n",
              "        109.  ,  328.28,  205.16, 1360.49,  905.83,  487.33,  202.76,\n",
              "        202.01,  148.87,  745.3 ,  503.04, 1563.82,  165.21,  438.4 ,\n",
              "         98.47,  819.63,  174.44,  483.13,  534.24,  572.31,  957.61,\n",
              "        518.29, 1143.49, 1211.31,  784.74,  283.7 ,  684.38,  719.46,\n",
              "        292.23,  775.68,  130.77,  801.6 ,  323.55,  726.9 ,  661.12,\n",
              "        771.11, 1016.14,  237.69,  325.89,  636.22,  272.12,  696.65,\n",
              "        434.53,  593.86])"
            ]
          },
          "metadata": {},
          "execution_count": 54
        }
      ]
    },
    {
      "cell_type": "code",
      "source": [
        "from sklearn.model_selection import train_test_split\n",
        "x_train,x_test,y_train,y_test=train_test_split(X,y,test_size=0.2,random_state=1)"
      ],
      "metadata": {
        "id": "267Q8VuDesHn"
      },
      "execution_count": 55,
      "outputs": []
    },
    {
      "cell_type": "code",
      "source": [
        "from sklearn.linear_model import LinearRegression\n",
        "\n",
        "model=LinearRegression()\n",
        "model.fit(X,y)"
      ],
      "metadata": {
        "colab": {
          "base_uri": "https://localhost:8080/"
        },
        "id": "R--tNtpyesLB",
        "outputId": "0717e208-7f21-4d62-9208-2720b0e61b5f"
      },
      "execution_count": 56,
      "outputs": [
        {
          "output_type": "execute_result",
          "data": {
            "text/plain": [
              "LinearRegression()"
            ]
          },
          "metadata": {},
          "execution_count": 56
        }
      ]
    },
    {
      "cell_type": "code",
      "source": [
        "from sklearn.preprocessing import PolynomialFeatures\n",
        "\n",
        "model2=PolynomialFeatures(degree=4)\n",
        "x_poly=model2.fit_transform(X)\n",
        "lin2=LinearRegression()\n",
        "lin2.fit(x_poly,y)"
      ],
      "metadata": {
        "colab": {
          "base_uri": "https://localhost:8080/"
        },
        "id": "72pP8-akesPH",
        "outputId": "d7195283-c57b-47f2-f10d-059de9cdd001"
      },
      "execution_count": 57,
      "outputs": [
        {
          "output_type": "execute_result",
          "data": {
            "text/plain": [
              "LinearRegression()"
            ]
          },
          "metadata": {},
          "execution_count": 57
        }
      ]
    },
    {
      "cell_type": "code",
      "source": [
        "plt.scatter(X,y,color='blue')\n",
        "plt.plot(X,model.predict(X),color='green')"
      ],
      "metadata": {
        "colab": {
          "base_uri": "https://localhost:8080/",
          "height": 282
        },
        "id": "bgNV3oDKesUN",
        "outputId": "e8f3208c-56ce-4e93-e8cc-65ddeb6d6183"
      },
      "execution_count": 61,
      "outputs": [
        {
          "output_type": "execute_result",
          "data": {
            "text/plain": [
              "[<matplotlib.lines.Line2D at 0x7f3956e94520>]"
            ]
          },
          "metadata": {},
          "execution_count": 61
        },
        {
          "output_type": "display_data",
          "data": {
            "text/plain": [
              "<Figure size 432x288 with 1 Axes>"
            ],
            "image/png": "[encoded data removed]"
          },
          "metadata": {
            "needs_background": "light"
          }
        }
      ]
    },
    {
      "cell_type": "code",
      "source": [
        "plt.scatter(X,y,color='blue')\n",
        "plt.plot(X,lin2.predict(model2.fit_transform(X)),color='green')"
      ],
      "metadata": {
        "colab": {
          "base_uri": "https://localhost:8080/",
          "height": 282
        },
        "id": "u2kWV1cSfyn1",
        "outputId": "aa698f36-98f0-4249-f730-cd3bdafaf3d0"
      },
      "execution_count": 62,
      "outputs": [
        {
          "output_type": "execute_result",
          "data": {
            "text/plain": [
              "[<matplotlib.lines.Line2D at 0x7f3956df49d0>]"
            ]
          },
          "metadata": {},
          "execution_count": 62
        },
        {
          "output_type": "display_data",
          "data": {
            "text/plain": [
              "<Figure size 432x288 with 1 Axes>"
            ],
            "image/png": "[encoded data removed]"
          },
          "metadata": {
            "needs_background": "light"
          }
        }
      ]
    },
    {
      "cell_type": "code",
      "source": [
        "#By seeing these graph we can say polynomial regression model is the best for this dataset."
      ],
      "metadata": {
        "id": "CTe85JnSgkaa"
      },
      "execution_count": null,
      "outputs": []
    },
    {
      "cell_type": "markdown",
      "source": [
        "Summary:  AS comparing linear regression model and Polynomial Regression model we can understand that polynomial regression model is best fot for prediction for this dataset as it is covering more datapoints than the linear regression line."
      ],
      "metadata": {
        "id": "ErPDl1JjkMmp"
      }
    },
    {
      "cell_type": "code",
      "source": [],
      "metadata": {
        "id": "oJ9f6LnGkY_y"
      },
      "execution_count": null,
      "outputs": []
    }
  ]
}